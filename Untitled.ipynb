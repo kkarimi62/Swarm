{
 "cells": [
  {
   "cell_type": "code",
   "execution_count": 6,
   "metadata": {},
   "outputs": [],
   "source": [
    "import numpy as np\n",
    "import matplotlib.pylab as plt\n",
    "from math import *\n",
    "\n",
    "nij_shuffled=np.load('nij_shuffled.npy')\n",
    "nij_declustered = np.load('nij_declustered.npy')"
   ]
  },
  {
   "cell_type": "code",
   "execution_count": 8,
   "metadata": {},
   "outputs": [
    {
     "name": "stderr",
     "output_type": "stream",
     "text": [
      "/Library/Python/2.7/site-packages/ipykernel_launcher.py:4: VisibleDeprecationWarning: Passing `normed=True` on non-uniform bins has always been broken, and computes neither the probability density function nor the probability mass function. The result is only correct if the bins are uniform, when density=True will produce the same result anyway. The argument will be removed in a future version of numpy.\n",
      "  after removing the cwd from sys.path.\n",
      "/Library/Python/2.7/site-packages/ipykernel_launcher.py:9: VisibleDeprecationWarning: Passing `normed=True` on non-uniform bins has always been broken, and computes neither the probability density function nor the probability mass function. The result is only correct if the bins are uniform, when density=True will produce the same result anyway. The argument will be removed in a future version of numpy.\n",
      "  if __name__ == '__main__':\n"
     ]
    },
    {
     "data": {
      "text/plain": [
       "[<matplotlib.lines.Line2D at 0x11a878b50>]"
      ]
     },
     "execution_count": 8,
     "metadata": {},
     "output_type": "execute_result"
    },
    {
     "data": {
      "image/png": "[encoded data removed]",
      "text/plain": [
       "<Figure size 288x288 with 1 Axes>"
      ]
     },
     "metadata": {
      "needs_background": "light"
     },
     "output_type": "display_data"
    }
   ],
   "source": [
    "nmin=nij_declustered.min()\n",
    "nmax=nij_declustered.max()\n",
    "bins=np.linspace(nmin,nmax,int(nmax-nmin)*8)\n",
    "hist, edge = np.histogram(nij_declustered,bins=bins,normed=True)\n",
    "\n",
    "nmin=nij_shuffled.min()\n",
    "nmax=nij_shuffled.max()\n",
    "bins=np.linspace(nmin,nmax,int(nmax-nmin)*8)\n",
    "hist_shuffled, edge_shuffled = np.histogram(nij_shuffled,bins=bins,normed=True)\n",
    "\n",
    "\n",
    "#------------\n",
    "#--- plot\n",
    "#------------    \n",
    "fig= plt.figure(figsize=(4,4))\n",
    "ax = fig.add_subplot(111)\n",
    "ax.set_xlabel('$log~n_{ij}$')\n",
    "ax.set_ylabel('$P(log~n_{ij})$')\n",
    "#(nmin,nmax) = (min(slist),max(slist))\n",
    "ax.set_xlim(floor(nmin),ceil(nmax))\n",
    "ax.set_xlim(-5,6)\n",
    "ax.set_ylim(0,0.6)\n",
    "#ax.set_xscale('log')\n",
    "#ax.set_yscale('log')\n",
    "ax.plot(edge[:-1],hist,'-o',color='black')\n",
    "ax.plot(edge_shuffled[:-1],hist_shuffled,'-o',color='red')"
   ]
  },
  {
   "cell_type": "code",
   "execution_count": 19,
   "metadata": {},
   "outputs": [
    {
     "data": {
      "text/plain": [
       "4.204932742289371e-12"
      ]
     },
     "execution_count": 19,
     "metadata": {},
     "output_type": "execute_result"
    }
   ],
   "source": [
    "from scipy import stats\n",
    "stats.ks_2samp(nij_shuffled,nij_declustered).pvalue"
   ]
  },
  {
   "cell_type": "code",
   "execution_count": 18,
   "metadata": {},
   "outputs": [
    {
     "name": "stdout",
     "output_type": "stream",
     "text": [
      "Help on function ks_2samp in module scipy.stats.stats:\n",
      "\n",
      "ks_2samp(data1, data2)\n",
      "    Computes the Kolmogorov-Smirnov statistic on 2 samples.\n",
      "    \n",
      "    This is a two-sided test for the null hypothesis that 2 independent samples\n",
      "    are drawn from the same continuous distribution.\n",
      "    \n",
      "    Parameters\n",
      "    ----------\n",
      "    data1, data2 : sequence of 1-D ndarrays\n",
      "        two arrays of sample observations assumed to be drawn from a continuous\n",
      "        distribution, sample sizes can be different\n",
      "    \n",
      "    Returns\n",
      "    -------\n",
      "    statistic : float\n",
      "        KS statistic\n",
      "    pvalue : float\n",
      "        two-tailed p-value\n",
      "    \n",
      "    Notes\n",
      "    -----\n",
      "    This tests whether 2 samples are drawn from the same distribution. Note\n",
      "    that, like in the case of the one-sample K-S test, the distribution is\n",
      "    assumed to be continuous.\n",
      "    \n",
      "    This is the two-sided test, one-sided tests are not implemented.\n",
      "    The test uses the two-sided asymptotic Kolmogorov-Smirnov distribution.\n",
      "    \n",
      "    If the K-S statistic is small or the p-value is high, then we cannot\n",
      "    reject the hypothesis that the distributions of the two samples\n",
      "    are the same.\n",
      "    \n",
      "    Examples\n",
      "    --------\n",
      "    >>> from scipy import stats\n",
      "    >>> np.random.seed(12345678)  #fix random seed to get the same result\n",
      "    >>> n1 = 200  # size of first sample\n",
      "    >>> n2 = 300  # size of second sample\n",
      "    \n",
      "    For a different distribution, we can reject the null hypothesis since the\n",
      "    pvalue is below 1%:\n",
      "    \n",
      "    >>> rvs1 = stats.norm.rvs(size=n1, loc=0., scale=1)\n",
      "    >>> rvs2 = stats.norm.rvs(size=n2, loc=0.5, scale=1.5)\n",
      "    >>> stats.ks_2samp(rvs1, rvs2)\n",
      "    (0.20833333333333337, 4.6674975515806989e-005)\n",
      "    \n",
      "    For a slightly different distribution, we cannot reject the null hypothesis\n",
      "    at a 10% or lower alpha since the p-value at 0.144 is higher than 10%\n",
      "    \n",
      "    >>> rvs3 = stats.norm.rvs(size=n2, loc=0.01, scale=1.0)\n",
      "    >>> stats.ks_2samp(rvs1, rvs3)\n",
      "    (0.10333333333333333, 0.14498781825751686)\n",
      "    \n",
      "    For an identical distribution, we cannot reject the null hypothesis since\n",
      "    the p-value is high, 41%:\n",
      "    \n",
      "    >>> rvs4 = stats.norm.rvs(size=n2, loc=0.0, scale=1.0)\n",
      "    >>> stats.ks_2samp(rvs1, rvs4)\n",
      "    (0.07999999999999996, 0.41126949729859719)\n",
      "\n"
     ]
    }
   ],
   "source": [
    "help(stats.ks_2samp)"
   ]
  },
  {
   "cell_type": "code",
   "execution_count": null,
   "metadata": {},
   "outputs": [],
   "source": []
  }
 ],
 "metadata": {
  "kernelspec": {
   "display_name": "Python 2",
   "language": "python",
   "name": "python2"
  },
  "language_info": {
   "codemirror_mode": {
    "name": "ipython",
    "version": 2
   },
   "file_extension": ".py",
   "mimetype": "text/x-python",
   "name": "python",
   "nbconvert_exporter": "python",
   "pygments_lexer": "ipython2",
   "version": "2.7.10"
  }
 },
 "nbformat": 4,
 "nbformat_minor": 2
}
